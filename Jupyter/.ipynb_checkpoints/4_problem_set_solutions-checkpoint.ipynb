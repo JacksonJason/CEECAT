{
 "cells": [
  {
   "cell_type": "markdown",
   "metadata": {},
   "source": [
    "***\n",
    "<a id='beginning'></a> <!--\\label{beginning}-->\n",
    "* [Outline](../0_Introduction/0_introduction.ipynb)\n",
    "* [Glossary](../0_Introduction/1_glossary.ipynb)\n",
    "* [4. The Visibility Space](4_0_introduction.ipynb)\n",
    "***"
   ]
  },
  {
   "cell_type": "markdown",
   "metadata": {},
   "source": [
    "Import standard modules:"
   ]
  },
  {
   "cell_type": "code",
   "execution_count": 1,
   "metadata": {},
   "outputs": [
    {
     "data": {
      "text/html": [
       "../style/course.css"
      ],
      "text/plain": [
       "<IPython.core.display.HTML object>"
      ]
     },
     "execution_count": 1,
     "metadata": {},
     "output_type": "execute_result"
    }
   ],
   "source": [
    "import numpy as np\n",
    "import matplotlib.pyplot as plt\n",
    "%matplotlib inline\n",
    "from IPython.display import HTML \n",
    "HTML('../style/course.css') #apply general CSS"
   ]
  },
  {
   "cell_type": "markdown",
   "metadata": {},
   "source": [
    "Import section specific modules:"
   ]
  },
  {
   "cell_type": "code",
   "execution_count": 2,
   "metadata": {
    "collapsed": true
   },
   "outputs": [],
   "source": [
    "from IPython.display import Image"
   ]
  },
  {
   "cell_type": "code",
   "execution_count": 3,
   "metadata": {},
   "outputs": [
    {
     "data": {
      "text/html": [
       "../style/code_toggle.html"
      ],
      "text/plain": [
       "<IPython.core.display.HTML object>"
      ]
     },
     "execution_count": 3,
     "metadata": {},
     "output_type": "execute_result"
    }
   ],
   "source": [
    "HTML('../style/code_toggle.html')"
   ]
  },
  {
   "cell_type": "markdown",
   "metadata": {},
   "source": [
    "## Visibility Space Problem Set"
   ]
  },
  {
   "cell_type": "markdown",
   "metadata": {},
   "source": [
    "### 1. Position of Orion\n",
    "\n",
    "The positions of the stars in the Orion constellation can be found in the figure below."
   ]
  },
  {
   "cell_type": "markdown",
   "metadata": {},
   "source": [
    "<img src='figures/orion_fig.png' width=300>"
   ]
  },
  {
   "cell_type": "markdown",
   "metadata": {},
   "source": [
    "**Figure:** Schematic sky map of the Orion consellation."
   ]
  },
  {
   "cell_type": "markdown",
   "metadata": {},
   "source": [
    "Betelgeuse and Rigel are the brightest stars in this constellation. The equatorial coordinates of the constellation's centre, Betelgeuse, and Rigel are:\n",
    "\n",
    "| Name | Right Ascension ($\\alpha$) | Declination ($\\delta$) |\n",
    "|:---:|:---:|:---:|\n",
    "| Center | 5h 30m $(\\alpha_0)$ | $0^{\\circ}$ $(\\delta_0)$ |\n",
    "| Betelgeuse | 5h 55m 10.3053s | $7^{\\circ}~24'~25.42''$ |\n",
    "| Rigel | 5h 14m 32.272s | $-8^{\\circ}~12'~5.898''$ |"
   ]
  },
  {
   "cell_type": "markdown",
   "metadata": {},
   "source": [
    "(1) Calculate the $l$ and $m$ coordinates of Orion's center, Betelgeuse and Rigel? Assume that your field center was chosen to coincide with Orion's center. [specify your answers in degrees ($^{\\circ}$)]. **Hint:**\n",
    "\\begin{eqnarray}\n",
    "    \\Delta \\alpha &=& \\alpha-\\alpha_0\\nonumber\\\\\n",
    "    l &=& \\cos \\delta \\sin \\Delta \\alpha \\nonumber\\\\\n",
    "    m &=& \\sin \\delta \\cos \\delta_0 - \\cos \\delta \\sin \\delta_0\\cos \\Delta \\alpha\\nonumber\n",
    "\\end{eqnarray}"
   ]
  },
  {
   "cell_type": "markdown",
   "metadata": {},
   "source": [
    "**Answer**: \n",
    "\\begin{eqnarray}\n",
    "  C_{\\alpha} &=& \\frac{\\pi}{12}\\bigg(5 + \\frac{30}{60}\\bigg)\\nonumber\\\\\n",
    "  B_{\\alpha} &=& \\frac{\\pi}{12}\\bigg(5 + \\frac{55}{60} + \\frac{10.3053}{3600}\\bigg)\\nonumber\\\\\n",
    "  R_{\\alpha} &=& \\frac{\\pi}{12}\\bigg(5 + \\frac{14}{60} + \\frac{32.272}{60}\\bigg)\\nonumber\n",
    " \\end{eqnarray}\n",
    " \\begin{eqnarray}\n",
    "  C_{\\delta} &=& 0\\nonumber\\\\\n",
    "  B_{\\delta} &=& \\frac{\\pi}{180}\\bigg(7 + \\frac{24}{60} + \\frac{25.426}{3600}\\bigg)\\nonumber\\\\\n",
    "  R_{\\delta} &=& \\frac{\\pi}{180}\\bigg(-8 - \\frac{12}{60} - \\frac{5.898}{60}\\bigg)\\nonumber\n",
    " \\end{eqnarray}\n",
    " \\begin{eqnarray}\n",
    "  \\Delta B_{\\alpha} &=& B_{\\alpha} - C_{\\alpha}\\nonumber\\\\\n",
    "  \\Delta R_{\\alpha} &=& R_{\\alpha} - C_{\\alpha}\\nonumber\n",
    " \\end{eqnarray}\n",
    " \\begin{eqnarray}\n",
    "  l_B &=& \\frac{180}{\\pi}\\cos B_{\\delta}\\sin \\Delta B_{\\alpha}\\nonumber\\\\\n",
    "      &=& 6.22788693165^{\\circ}\\nonumber\\\\\n",
    "  m_B &=&  \\frac{180}{\\pi}\\sin B_\\delta \\cos C_\\delta -  \\frac{180}{\\pi}\\cos B_\\delta \\sin C_\\delta \\cos \\Delta B_{\\alpha}\\nonumber\\\\\n",
    "      &=&  7.38644800073^{\\circ}\\nonumber\n",
    " \\end{eqnarray}\n",
    " Similarly,\n",
    " \\begin{eqnarray}\n",
    "  l_C &=& 0^{\\circ}\\nonumber\\\\\n",
    "  m_C &=& 0^{\\circ}\\nonumber\\\\\n",
    "  l_R &=& -3.82309540994^{\\circ}\\nonumber\\\\\n",
    "  m_R &=& -8.09006178983^{\\circ}\\nonumber\n",
    " \\end{eqnarray}"
   ]
  },
  {
   "cell_type": "code",
   "execution_count": 4,
   "metadata": {
    "collapsed": true
   },
   "outputs": [],
   "source": [
    "def draw_orion():\n",
    "    #Equatorial coordinates of the orion constellation\n",
    "    names = [\"Center\",\"Betelgeuse\",\"Rigel\",\"Bellatrix\",\"Mintaka\",\"Alnilam\",\"Alnitak\",\"Saiph\"]\n",
    "    RA = [5+30.0/60,5+55.0/60+10.3053/3600,5+14.0/60+32.272/3600,5+25.0/60+7.9/3600, \\\n",
    "          5+32.0/60+0.4/3600,5+36.0/60+12.8/3600,5+40.0/60+45.5/3600,5+47.0/60+45.4/3600]\n",
    "    DEC = [0,7+24.0/60+25.426/3600,-8-12.0/60-5.91/3600,6+20.0/60+59.0/3600,-17.0/60-57.0/3600, \\\n",
    "           -1-12.0/60-6.9/3600,-1-56.0/60-34.0/3600,-9-40.0/60-11.0/3600]\n",
    "\n",
    "    #Plot Orion Constellation in Equatorial coordinates\n",
    "    fig = plt.figure()\n",
    "    ax = fig.add_subplot(111)\n",
    "    plt.plot(RA[0],DEC[0],\"bx\")\n",
    "    plt.hold(\"on\")\n",
    "    plt.plot(RA[1],DEC[1],\"ro\")\n",
    "    plt.plot(RA[2],DEC[2],\"co\")\n",
    "    plt.plot(RA[3:],DEC[3:],\"go\")   \n",
    "    counter = 1\n",
    "    for xy in zip(RA[1:], DEC[1:]):                                              \n",
    "        ax.annotate(names[counter], xy=xy, textcoords='offset points',horizontalalignment='left',\n",
    "            verticalalignment='top')  \n",
    "        counter = counter + 1\n",
    "    plt.xlim([5,6])\n",
    "    plt.xlabel(\"Right Ascension [h]\")\n",
    "    plt.ylim([-14,14])\n",
    "    plt.ylabel(\"Declination [degrees]\")\n",
    "    plt.gca().invert_xaxis()\n",
    "    plt.grid()\n",
    "    plt.show()  \n",
    "\n",
    "    # Calculate the right ascension (in radians) of Orion's center, Betelgeuse and Rigel\n",
    "    C_RA = RA[0]*(np.pi/12)\n",
    "    print \"C_RA = \",C_RA\n",
    "    B_RA = RA[1]*(np.pi/12)\n",
    "    print \"B_RA = \",B_RA\n",
    "    R_RA = RA[2]*(np.pi/12)\n",
    "    print \"R_RA = \",R_RA\n",
    "\n",
    "    #Calculate delta ra\n",
    "    delta_B_RA = B_RA - C_RA \n",
    "    print \"delta_B_RA = \",delta_B_RA\n",
    "    delta_R_RA = R_RA - C_RA\n",
    "    print \"delta_R_RA = \",delta_R_RA\n",
    "\n",
    "    # Calculate the declination (in radians) of Orion's center, Betelgeuse and Rigel\n",
    "    C_DEC = DEC[0]*(np.pi/180)\n",
    "    print \"C_DEC = \",C_DEC\n",
    "    B_DEC = DEC[1]*(np.pi/180)\n",
    "    print \"B_DEC = \",B_DEC\n",
    "    R_DEC = DEC[2]*(np.pi/180)\n",
    "    print \"R_DEC = \",R_DEC\n",
    "\n",
    "    # Calculate l and m coordinates of Betelgeuse and Rigel\n",
    "    l_B = np.cos(B_DEC)*np.sin(delta_B_RA)\n",
    "    print \"l_B = \",l_B*(180/np.pi)\n",
    "    m_B = np.sin(B_DEC)*np.cos(C_DEC)-np.cos(B_DEC)*np.sin(C_DEC)*np.cos(delta_B_RA)\n",
    "    print \"m_B = \",m_B*(180/np.pi)    \n",
    "\n",
    "    l_R = np.cos(R_DEC)*np.sin(delta_R_RA)\n",
    "    print \"l_R = \",l_R*(180/np.pi)\n",
    "    m_R = np.sin(R_DEC)*np.cos(C_DEC)-np.cos(R_DEC)*np.sin(C_DEC)*np.cos(delta_R_RA)\n",
    "    print \"m_R = \",m_R*(180/np.pi)\n",
    "    \n",
    "    # Repeat for entir constellation\n",
    "    RA_rad = np.array(RA)*(np.pi/12)\n",
    "    DEC_rad = np.array(DEC)*(np.pi/180)\n",
    "    RA_delta_rad = RA_rad-RA_rad[0]\n",
    "    \n",
    "    l = np.cos(DEC_rad)*np.sin(RA_delta_rad)*(180/np.pi)\n",
    "    m = (np.sin(DEC_rad)*np.cos(DEC_rad[0])-np.cos(DEC_rad)*np.sin(DEC_rad[0])*np.cos(RA_delta_rad))*(180/np.pi)\n",
    "    print \"l = \",l\n",
    "    print \"m = \",m\n",
    "    \n",
    "    fig = plt.figure()\n",
    "    ax = fig.add_subplot(111)\n",
    "    plt.xlim([-8,8])\n",
    "    plt.ylim([-14,14])\n",
    "    plt.xlabel(\"$l$ [degrees]\")\n",
    "    plt.ylabel(\"$m$ [degrees]\")\n",
    "    plt.plot(l[0],m[0],\"bx\")\n",
    "    plt.hold(\"on\")\n",
    "    plt.plot(l[1],m[1],\"ro\")\n",
    "    plt.plot(l[2],m[2],\"co\")\n",
    "    plt.plot(l[3:],m[3:],\"go\") \n",
    "    \n",
    "    counter = 1\n",
    "    for lm in zip(l[1:]-0.3, m[1:]):                                              \n",
    "        ax.annotate(names[counter], xy=lm, textcoords='offset points',horizontalalignment='left',\n",
    "            verticalalignment='top')  \n",
    "        counter = counter + 1\n",
    "    plt.gca().invert_xaxis()\n",
    "    plt.grid()\n",
    "    plt.show()\n",
    "    return l_B,m_B,l_R,m_R,B_DEC,C_DEC,delta_B_RA"
   ]
  },
  {
   "cell_type": "code",
   "execution_count": 5,
   "metadata": {},
   "outputs": [
    {
     "name": "stderr",
     "output_type": "stream",
     "text": [
      "/home/trienko/NASSP/fundamentals/lib/python2.7/site-packages/ipykernel/__main__.py:11: MatplotlibDeprecationWarning: pyplot.hold is deprecated.\n",
      "    Future behavior will be consistent with the long-time default:\n",
      "    plot commands add elements without first clearing the\n",
      "    Axes and/or Figure.\n",
      "/home/trienko/NASSP/fundamentals/local/lib/python2.7/site-packages/matplotlib/__init__.py:917: UserWarning: axes.hold is deprecated. Please remove it from your matplotlibrc and/or style files.\n",
      "  warnings.warn(self.msg_depr_set % key)\n",
      "/home/trienko/NASSP/fundamentals/local/lib/python2.7/site-packages/matplotlib/rcsetup.py:152: UserWarning: axes.hold is deprecated, will be removed in 3.0\n",
      "  warnings.warn(\"axes.hold is deprecated, will be removed in 3.0\")\n",
      "/home/trienko/NASSP/fundamentals/local/lib/python2.7/site-packages/matplotlib/text.py:2138: UserWarning: You have used the `textcoords` kwarg, but not the `xytext` kwarg.  This can lead to surprising results.\n",
      "  warnings.warn(\"You have used the `textcoords` kwarg, but not \"\n"
     ]
    },
    {
     "data": {
      "image/png": "[encoded data removed]",
      "text/plain": [
       "<matplotlib.figure.Figure at 0x7fdfb04705d0>"
      ]
     },
     "metadata": {},
     "output_type": "display_data"
    },
    {
     "name": "stdout",
     "output_type": "stream",
     "text": [
      "C_RA =  1.4398966329\n",
      "B_RA =  1.54972913371\n",
      "R_RA =  1.37243034888\n",
      "delta_B_RA =  0.109832500814\n",
      "delta_R_RA =  -0.0674662840123\n",
      "C_DEC =  0.0\n",
      "B_DEC =  0.129277633374\n",
      "R_DEC =  -0.143145651152\n",
      "l_B =  6.22788693165\n",
      "m_B =  7.38644800073\n",
      "l_R =  -3.82309540994\n",
      "m_R =  -8.17366081707\n",
      "l =  [ 0.          6.22788693 -3.82309541 -1.20952599  0.50165342  1.55280134\n",
      "  2.68705022  4.37171976]\n",
      "m =  [ 0.          7.386448   -8.17366082  6.33673247 -0.29916531 -1.20182852\n",
      " -1.94240552 -9.62388408]\n"
     ]
    },
    {
     "name": "stderr",
     "output_type": "stream",
     "text": [
      "/home/trienko/NASSP/fundamentals/lib/python2.7/site-packages/ipykernel/__main__.py:78: MatplotlibDeprecationWarning: pyplot.hold is deprecated.\n",
      "    Future behavior will be consistent with the long-time default:\n",
      "    plot commands add elements without first clearing the\n",
      "    Axes and/or Figure.\n"
     ]
    },
    {
     "data": {
      "image/png": "[encoded data removed]",
      "text/plain": [
       "<matplotlib.figure.Figure at 0x7fdfb0470c90>"
      ]
     },
     "metadata": {},
     "output_type": "display_data"
    }
   ],
   "source": [
    "l_B, m_B, l_R, m_R, B_DEC, C_DEC, delta_B_RA = draw_orion()"
   ]
  },
  {
   "cell_type": "markdown",
   "metadata": {},
   "source": [
    "(2) What is the distance from the field center to Betelgeuse in the projected $lm$-plane? **Hint:** $l^2+m^2 = d^2$."
   ]
  },
  {
   "cell_type": "markdown",
   "metadata": {},
   "source": [
    "**Answer**:\n",
    "\\begin{equation}\n",
    "  d = \\sqrt{l_B^2 + m_B^2} = 9.66158318812^{\\circ}\\nonumber\n",
    "\\end{equation}"
   ]
  },
  {
   "cell_type": "code",
   "execution_count": 6,
   "metadata": {},
   "outputs": [
    {
     "name": "stdout",
     "output_type": "stream",
     "text": [
      "d =  9.66158318812\n"
     ]
    }
   ],
   "source": [
    "d = np.sqrt(l_B**2+m_B**2)*(180/np.pi)\n",
    "print \"d = \", d "
   ]
  },
  {
   "cell_type": "markdown",
   "metadata": {},
   "source": [
    "(3) What is the angular distance from the field center to Betelgeuse on the celestial sphere? **Hint:** $l^2+m^2 = \\sin^2 \\theta$."
   ]
  },
  {
   "cell_type": "markdown",
   "metadata": {},
   "source": [
    "**Answer**:\n",
    "NB: From here on **we work in degrees**, we assume the trigonometric functions take degrees.\n",
    " \\begin{equation}\n",
    "  \\theta_{CB} = \\sin^{-1} \\sqrt{l_B^2 + m_B^2} = 9.70796683775^{\\circ}\\nonumber\n",
    " \\end{equation}"
   ]
  },
  {
   "cell_type": "code",
   "execution_count": 7,
   "metadata": {},
   "outputs": [
    {
     "name": "stdout",
     "output_type": "stream",
     "text": [
      "theta_CB =  9.70796683775\n"
     ]
    }
   ],
   "source": [
    "theta_CB = np.arcsin(np.sqrt(l_B**2+m_B**2))*(180/np.pi)\n",
    "print \"theta_CB = \",theta_CB"
   ]
  },
  {
   "cell_type": "markdown",
   "metadata": {},
   "source": [
    "(4) Verify the previous question by using the equatorial coordinates directly (stay on the celestial sphere)? **Hint:** Use the spherical Pythagorean theorem."
   ]
  },
  {
   "cell_type": "markdown",
   "metadata": {},
   "source": [
    "**Answer**:\n",
    "\\begin{equation}\n",
    "  \\Delta B_{\\delta} = B_{\\delta} - C_{\\delta}\\nonumber\n",
    " \\end{equation}\n",
    " \\begin{equation}\n",
    "  \\theta_{CB} = \\cos^{-1}(\\cos(\\Delta B_{\\delta})\\cos(\\Delta B_{\\alpha})) = 9.70796683775^{\\circ}\\nonumber\n",
    " \\end{equation}"
   ]
  },
  {
   "cell_type": "code",
   "execution_count": 8,
   "metadata": {},
   "outputs": [
    {
     "name": "stdout",
     "output_type": "stream",
     "text": [
      "theta_CB_pyth =  9.70796683775\n"
     ]
    }
   ],
   "source": [
    "delta_B_DEC = B_DEC - C_DEC\n",
    "theta_CB_pyth = np.arccos(np.cos(delta_B_RA)*np.cos(delta_B_DEC))*(180/np.pi)\n",
    "print \"theta_CB_pyth = \",theta_CB_pyth"
   ]
  },
  {
   "cell_type": "markdown",
   "metadata": {},
   "source": [
    "(5) Why do we measure $l$ and $m$ in $^{\\circ}$ if they are direction cosines and therefore by definition unit-less? **Hint:** Use the previous three results to answer this question."
   ]
  },
  {
   "cell_type": "markdown",
   "metadata": {},
   "source": [
    "**Answer**:\n",
    "Since, $l^2+m^2 = \\sin^2 \\theta \\approx \\theta^2$ when $\\theta$ is small. The above results show that the angular distance to Betelgeuse is approximately\n",
    " equal to the $lm$-projected distance. Even at an angle of $10^{\\circ}$ this approximation works well. In a small field-of-view observation $\\theta$ will be much\n",
    " smaller, making the approximation even better. We can therefore assume that $l$ and $m$ are angular distances and can therefore be measured in degrees. "
   ]
  },
  {
   "cell_type": "markdown",
   "metadata": {},
   "source": [
    "(6) What will the hour angle of Orion's center be when it appear above the horizon? In which direction will Orion's center appear? **Hint:** Remember Orion's center is at $\\delta = 0^{\\circ}$. It is the same declination the sun has when it lies on one of the equinoxes."
   ]
  },
  {
   "cell_type": "markdown",
   "metadata": {},
   "source": [
    "**Answer:**-6h due East. When the sun lies on one of the equinoxes it is in the sky for 12 hours, rises due east and sets due west."
   ]
  },
  {
   "cell_type": "markdown",
   "metadata": {},
   "source": [
    "### 2. Papino and Paperino\n",
    "\n",
    "We will be using a fictitious piece of sky (containing only two radio sources) in the remainder of the assignment. The equatorial coordinates of this fictitious sky are:\n",
    "\n",
    "| Name | Flux | Right Ascension ($\\alpha$) | Declination $\\delta$ |\n",
    "|:---:|:---:|:---:|:---:|\n",
    "| Papino | 1Jy | -4h 44m 6.686s $(\\alpha_0)$ | $-74^{\\circ}39'37.481''$ $(\\delta_0)$ |\n",
    "| Paperino | 0.2Jy | -4h 44m 6.686 | $-73^{\\circ}39'37.298''$ |"
   ]
  },
  {
   "cell_type": "markdown",
   "metadata": {},
   "source": [
    "(1) Calculate the $l$ and $m$ coordinates of Papino and Paperino? Assume Papino and the field-center coincide.  Express your answer in *radians*."
   ]
  },
  {
   "cell_type": "markdown",
   "metadata": {},
   "source": [
    "**Answer:** Since the field center and Papino coincides, $l_i=0$ rad and $m_i=0$ rad.\n",
    " \\begin{eqnarray}\n",
    "  \\delta_0 &=& \\frac{\\pi}{180}\\bigg(-74 - \\frac{39}{60} - \\frac{37.481}{3600}\\bigg)\\nonumber\\\\\n",
    "  \\delta &=& \\frac{\\pi}{180}\\bigg(-73 - \\frac{39}{60} - \\frac{37.298}{3600}\\bigg)\\nonumber\\\\\n",
    "  \\Delta \\alpha &=& 0 \\nonumber\n",
    " \\end{eqnarray}\n",
    " \\begin{eqnarray}\n",
    "  l_e &=& \\cos \\delta \\sin \\Delta \\alpha \\nonumber \\\\\n",
    "      &=& 0~\\textrm{rad} \\nonumber\\\\\n",
    "  m_e &=& \\sin \\delta \\cos \\delta_0 - \\cos \\delta \\sin \\delta_0 \\cos \\Delta \\alpha \\nonumber \\\\\n",
    "      &=& \\sin(\\delta-\\delta_0) \\nonumber\\\\\n",
    "      &=& 1^{\\circ}\\nonumber\\\\\n",
    "      &=& \\frac{\\pi}{180}~\\textrm{rad}\\nonumber\\\\\n",
    " \\end{eqnarray}"
   ]
  },
  {
   "cell_type": "code",
   "execution_count": 9,
   "metadata": {},
   "outputs": [
    {
     "name": "stdout",
     "output_type": "stream",
     "text": [
      "m_e =  1.00000005679\n"
     ]
    }
   ],
   "source": [
    "delta_0 = np.pi/180*(-74-39./60-37.481/3600)\n",
    "delta = np.pi/180*(-73-39./60-37.298/3600)\n",
    "m_e = np.sin(delta-delta_0)\n",
    "print \"m_e = \",m_e*(180/np.pi)"
   ]
  },
  {
   "cell_type": "markdown",
   "metadata": {},
   "source": [
    "(2) Write down an equation that completely describes this fictitious sky by assuming Papino and Paperino are perfect point sources (i.e. $I(l,m)$)? **Hint:** A point source can be represented with a delta-function, the amplitude of the delta function is equal to the flux of the point source and the translation parameters describe the position of the point source."
   ]
  },
  {
   "cell_type": "markdown",
   "metadata": {},
   "source": [
    "**Answer:**\n",
    "\\begin{equation}\n",
    " I(l,m) = \\delta(l,m) + 0.2\\delta(l,m-m_0) = \\delta(l,m) + 0.2\\delta\\bigg(l,m-\\frac{\\pi}{180}\\bigg) \\nonumber\n",
    " \\end{equation}\n",
    " with\n",
    " \\begin{equation}\n",
    "  m_0 = 1^{\\circ} = \\frac{\\pi}{180}~\\textrm{rad}\\nonumber\n",
    " \\end{equation}"
   ]
  },
  {
   "cell_type": "markdown",
   "metadata": {},
   "source": [
    "(3) Find the expression of the complex visibilities $V(u,v)$ that we would observe with an ideal interferometer (an interferometer that could sample the entire *uv*-plane). **Hint:** Take the Fourier transform of $I(l,m)$. The unit of $v$ is rad$^{-1}$ (per radian)."
   ]
  },
  {
   "cell_type": "markdown",
   "metadata": {},
   "source": [
    "**Answer:**\n",
    "  \\begin{equation}\n",
    "  V(u,v) = \\mathscr{F}\\{I(l,m)\\} = 1 + 0.2e^{-2\\pi \\imath m_0 v} = 1 + 0.2e^{-\\frac{\\pi^2}{90} \\imath v} \\nonumber\n",
    "  \\end{equation}\n",
    "  Note that $\\frac{\\pi^2}{90} = 2\\pi m_0$ and that $\\frac{1}{m_0} = \\frac{180}{\\pi}~\\textrm{rad}^{-1} \\approx 52.296~\\textrm{rad}^{-1}$."
   ]
  },
  {
   "cell_type": "markdown",
   "metadata": {},
   "source": [
    "(4) Calculate $V(v)=V(0,v)$, i.e. the cross section of $V(u,v)$ with the plane $u=0$."
   ]
  },
  {
   "cell_type": "markdown",
   "metadata": {},
   "source": [
    "**Answer:**\n",
    "\\begin{equation}\n",
    "  V(v) = 1 + 0.2e^{-\\frac{\\pi^2}{90} \\imath v} = 1 + 0.2\\cos\\bigg(\\frac{\\pi^2}{90}v\\bigg) - \\imath 0.2\\sin\\bigg(\\frac{\\pi^2}{90}v\\bigg) \\nonumber\n",
    "  \\end{equation}"
   ]
  },
  {
   "cell_type": "markdown",
   "metadata": {},
   "source": [
    "<img src='figures/two_sources.png' width=500>"
   ]
  },
  {
   "cell_type": "markdown",
   "metadata": {},
   "source": [
    "**Figure 4:** Graphical representation of $V(v)$. <a id='vis:fig:V'></a> <!--\\label{vis:fig:V}-->"
   ]
  },
  {
   "cell_type": "code",
   "execution_count": 10,
   "metadata": {},
   "outputs": [],
   "source": [
    "def V_func(v):\n",
    "    return (1 + 0.2*np.exp(-1*(np.pi**2/90)*1j*v)) "
   ]
  },
  {
   "cell_type": "markdown",
   "metadata": {},
   "source": [
    "### 3. KAT-7 Observation of Papino and Paperino\n",
    "\n",
    "KAT-7 is a radio interferometer that consists out of 7 dishes and is located in the Karoo, South Africa. The ENU (east-north-up) coordinates of this telescope is listed in the table below. We will assume that we observed the fictitious field from the problem 2. The main aim of this section is to enable you to derive the *uv*-tracks of an interferometer and to improve your understanding of visibilities.\n",
    "\n",
    "The ENU coordinates of KAT-7:\n",
    "\n",
    "| Antenna | E ($x$) | N ($y$) | U ($z$) |\n",
    "|:---:|:---:|:---:|:---:|\n",
    "| Antenna 1 | 25.095 m ($x_1$) | -9.095 m ($y_1$) | 0.045 m ($z_1$) |\n",
    "| Antenna 2 | 90.284 m | 26.380 m | -0.226 m |\n",
    "| Antenna 3 | 3.985 m | 26.893 m | 0.000 m |\n",
    "| Antenna 4 | -21.605 m | 25.494 m | 0.019 m |\n",
    "| Antenna 5 | -38.272 m | -2.592 m | 0.391 m |\n",
    "| Antenna 6 | -61.595 m | -79.699 m | 0.702 m |\n",
    "| Antenna 7 | -87.988 m | 75.754 m | 0.138\\m |\n",
    "\n",
    "The observation parameters are:\n",
    "\n",
    "| Name | Value |\n",
    "|:---:|:---:|\n",
    "| Latitude $L$ | $-30^{\\circ}43'17.34''$ |\n",
    "| Starting hour angle $H_0$ | -4h |\n",
    "| Stopping hour angle $H_1$ | 4h |\n",
    "| Field center $\\delta_0$ | $-74^{\\circ}39'37.481''$ |\n",
    "| Field center $\\alpha_0$ | -4h~44m~6.686s |\n",
    "| Observational Frequency $\\nu$ | 1.4 GHz |\n",
    "\n"
   ]
  },
  {
   "cell_type": "code",
   "execution_count": 11,
   "metadata": {},
   "outputs": [],
   "source": [
    "antennas = np.array([[ 25.095, -9.095,  0.045], #LOADING KAT7 ANTENNAS\n",
    "            [ 90.284, 26.380, -0.226],\n",
    "            [  3.985, 26.839,  0.000],\n",
    "            [-21.605, 25.494,  0.019],\n",
    "            [-38.272, -2.582,  0.391],\n",
    "            [-61.595,-79.699,  0.792],\n",
    "            [-87.988, 75.754,  0.138]])"
   ]
  },
  {
   "cell_type": "code",
   "execution_count": 12,
   "metadata": {},
   "outputs": [
    {
     "data": {
      "image/png": "[encoded data removed]",
      "text/plain": [
       "<matplotlib.figure.Figure at 0x7fdfae235290>"
      ]
     },
     "metadata": {},
     "output_type": "display_data"
    }
   ],
   "source": [
    "plt.scatter(antennas[:,0], antennas[:,1])\n",
    "plt.grid('on')\n",
    "plt.xlabel('E-W [m]')\n",
    "plt.ylabel('N-S [m]')\n",
    "plt.title('KAT7 Array Layout')\n",
    "plt.show()"
   ]
  },
  {
   "cell_type": "markdown",
   "metadata": {},
   "source": [
    "(1) Calculate the ENU baseline difference vector $\\boldsymbol{b}_{12}^{xyz}$ of baseline 12? **Hint:** $\\boldsymbol{b}_{12}^{xyz} = (x_2-x_1,y_2-y_1,z_2-z_1)$."
   ]
  },
  {
   "cell_type": "markdown",
   "metadata": {},
   "source": [
    "**Answer:**\n",
    "\\begin{equation}\n",
    "  \\boldsymbol{b}_{12}^{xyz} = (65.189,35.475,-0.271)^T\\nonumber\n",
    " \\end{equation}"
   ]
  },
  {
   "cell_type": "code",
   "execution_count": 13,
   "metadata": {},
   "outputs": [
    {
     "name": "stdout",
     "output_type": "stream",
     "text": [
      "baseline_12 =  [ 65.189  35.475  -0.271]\n"
     ]
    }
   ],
   "source": [
    "baseline_12 = antennas[1] - antennas[0]\n",
    "print \"baseline_12 = \",baseline_12"
   ]
  },
  {
   "cell_type": "markdown",
   "metadata": {},
   "source": [
    "(2) Calculate the length $D_{12}$ of $\\boldsymbol{b}_{12}^{xyz}$."
   ]
  },
  {
   "cell_type": "markdown",
   "metadata": {},
   "source": [
    "**Answer:**\n",
    "\\begin{equation}\n",
    "  D_{12} = 74.22~\\textrm{m}\\nonumber\n",
    " \\end{equation}"
   ]
  },
  {
   "cell_type": "code",
   "execution_count": 14,
   "metadata": {},
   "outputs": [
    {
     "name": "stdout",
     "output_type": "stream",
     "text": [
      "distance_12 =  74.2169440694\n"
     ]
    }
   ],
   "source": [
    "distance_12 = np.sqrt(np.square(baseline_12[0]) + np.square(baseline_12[1]) + np.square(baseline_12[2]))\n",
    "print \"distance_12 = \",distance_12"
   ]
  },
  {
   "cell_type": "markdown",
   "metadata": {},
   "source": [
    "(3) Calculate the azimuth angle $\\mathcal{A}_{12}$ and the elevation (altitude) angle $\\mathcal{E}_{12}$ of $\\boldsymbol{b}_{12}^{xyz}$? **Hint:** Remember the azimuth angle is measured from the north towards the east."
   ]
  },
  {
   "cell_type": "markdown",
   "metadata": {
    "collapsed": true
   },
   "source": [
    "**Answer:**\n",
    " \\begin{equation}\n",
    "  \\mathcal{A}_{12} = \\tan^{-1}\\bigg(\\frac{65.189}{35.475}\\bigg) = 61.44^{\\circ}\\nonumber\n",
    " \\end{equation}\n",
    " \\begin{equation}\n",
    "  \\mathcal{E}_{12} = -\\sin^{-1}\\bigg(\\frac{0.271}{D}\\bigg) = -0.21^{\\circ}\\nonumber\n",
    " \\end{equation}"
   ]
  },
  {
   "cell_type": "code",
   "execution_count": 15,
   "metadata": {},
   "outputs": [
    {
     "name": "stdout",
     "output_type": "stream",
     "text": [
      "A_12 angle: 61.445547 degrees\n",
      "E_12 angle: -0.209214 degrees\n"
     ]
    }
   ],
   "source": [
    "azimuth_angle_12 = np.arctan(baseline_12[0]/baseline_12[1])\n",
    "elevation_angle_12 = np.arcsin(baseline_12[2]/distance_12)\n",
    "print 'A_12 angle: %f degrees'%(azimuth_angle_12 / np.pi * 180)\n",
    "print 'E_12 angle: %f degrees'%(elevation_angle_12/ np.pi * 180)"
   ]
  },
  {
   "cell_type": "markdown",
   "metadata": {},
   "source": [
    "(4) Calculate $\\boldsymbol{b}_{12}^{XYZ}=\\begin{bmatrix}X_{12}\\\\Y_{12}\\\\Z_{12}\\end{bmatrix}$? **Hint:** Recall that\n",
    "\\begin{equation}\n",
    "\\begin{bmatrix}X_{12}\\\\Y_{12}\\\\Z_{12}\\end{bmatrix}=D_{12}\n",
    " \\begin{bmatrix}\n",
    " \\cos L_a \\sin \\mathcal{E}_{12} - \\sin L_a \\cos \\mathcal{E}_{12} \\cos \\mathcal{A}_{12}\\nonumber\\\\ \n",
    " \\cos \\mathcal{E}_{12} \\sin \\mathcal{A}_{12} \\nonumber\\\\\n",
    " \\sin L_a \\sin \\mathcal{E}_{12} + \\cos L_a \\cos \\mathcal{E}_{12} \\cos \\mathcal{A}_{12}\n",
    " \\end{bmatrix}\n",
    " \\end{equation}"
   ]
  },
  {
   "cell_type": "markdown",
   "metadata": {},
   "source": [
    "**Answer:**\n",
    "\\begin{equation}\n",
    " L_a = \\bigg(-30 - \\frac{43}{60}-\\frac{17.34}{3600}\\bigg)=-30.721^{\\circ}\\nonumber\n",
    " \\end{equation}\n",
    " \\begin{equation}\n",
    " \\begin{bmatrix}X_{12}\\\\Y_{12}\\\\Z_{12}\\end{bmatrix}=\\begin{bmatrix}17.89~\\textrm{m}\\\\65.19~\\textrm{m}\\\\30.63~\\textrm{m}\\end{bmatrix} \\nonumber\n",
    " \\end{equation}"
   ]
  },
  {
   "cell_type": "code",
   "execution_count": 16,
   "metadata": {},
   "outputs": [
    {
     "name": "stdout",
     "output_type": "stream",
     "text": [
      "XYZ_12 = \n",
      "[[ 17.88997801]\n",
      " [ 65.189     ]\n",
      " [ 30.63491068]]\n"
     ]
    }
   ],
   "source": [
    "L = (-30. - 43./60 - 17.34/3600)/180*np.pi # Latitude\n",
    "X_12 = distance_12*(np.cos(L)*np.sin(elevation_angle_12) - np.sin(L)*np.cos(elevation_angle_12) * \\\n",
    "                    np.cos(azimuth_angle_12))\n",
    "Y_12 = distance_12*np.cos(elevation_angle_12)*np.sin(azimuth_angle_12)\n",
    "Z_12 = distance_12*(np.sin(L)*np.sin(elevation_angle_12) + np.cos(L)*np.cos(elevation_angle_12) * \\\n",
    "                    np.cos(azimuth_angle_12))\n",
    "XYZ_12 = np.matrix([[X_12],\n",
    "                    [Y_12],\n",
    "                    [Z_12]])\n",
    "print \"XYZ_12 = \\n\", XYZ_12"
   ]
  },
  {
   "cell_type": "markdown",
   "metadata": {},
   "source": [
    "(5) Calculate the observational wavelength $\\lambda$? **Hint:** $\\lambda f=c$."
   ]
  },
  {
   "cell_type": "markdown",
   "metadata": {},
   "source": [
    "**Answer: ** \n",
    "\\begin{equation}\n",
    " \\lambda = \\frac{c}{f}=\\frac{3\\times10^8}{1.4\\times10^9}=0.214~\\textrm{m} \\nonumber\n",
    " \\end{equation}"
   ]
  },
  {
   "cell_type": "code",
   "execution_count": 17,
   "metadata": {},
   "outputs": [
    {
     "name": "stdout",
     "output_type": "stream",
     "text": [
      "Observational wavelength: 0.214286 metres\n"
     ]
    }
   ],
   "source": [
    "c = 3e8\n",
    "frequency = 1.4e9\n",
    "wavelength = c/frequency\n",
    "print 'Observational wavelength: %f metres'%(wavelength)"
   ]
  },
  {
   "cell_type": "markdown",
   "metadata": {},
   "source": [
    "(6) Calculate $\\sqrt{X_{12}^2 + Y_{12}^2}\\lambda^{-1}$, $|\\sin \\delta_0| \\sqrt{X_{12}^2 + Y_{12}^2}\\lambda^{-1}$ and $\\cos\\delta_0 Z_{12}\\lambda^{-1}$."
   ]
  },
  {
   "cell_type": "markdown",
   "metadata": {},
   "source": [
    "**Answer:** \\begin{equation}\n",
    "  \\sqrt{X_{12}^2 + Y_{12}^2}\\lambda^{-1} = 315.46\\nonumber \n",
    " \\end{equation}\n",
    " \\begin{equation}\n",
    "  |\\sin \\delta_0| \\sqrt{X_{12}^2 + Y_{12}^2}\\lambda^{-1} = 304.22\\nonumber\n",
    " \\end{equation}\n",
    " \\begin{equation}\n",
    "  \\cos\\delta_0 Z_{12}\\lambda^{-1} = 37.82\n",
    " \\end{equation}"
   ]
  },
  {
   "cell_type": "code",
   "execution_count": 18,
   "metadata": {},
   "outputs": [
    {
     "name": "stdout",
     "output_type": "stream",
     "text": [
      "315.463112606\n",
      "304.224696542\n",
      "37.8193312263\n"
     ]
    }
   ],
   "source": [
    "delta_0 = (-74. - 39./60 - 37.481/3600)/180*np.pi\n",
    "a = np.sqrt(np.square(X_12) + np.square(Y_12))/wavelength\n",
    "b = np.abs(np.sin(delta_0))*a\n",
    "c = np.cos(delta_0)*Z_12/wavelength\n",
    "print a\n",
    "print b\n",
    "print c"
   ]
  },
  {
   "cell_type": "markdown",
   "metadata": {},
   "source": [
    "(7) Draw the *uv*-tracks of baseline 12 and 21 that are generated; during a 24h observation? **Hint:** The baseline vector of an interferometer trace out an elliptical locus (after 24 hours it will complete one entire revolution). The values calculated in the previous question determine the shape of the elliptical locus. Moreover, $\\boldsymbol{b}_{12}^{xyz}=-\\boldsymbol{b}_{21}^{xyz}$."
   ]
  },
  {
   "cell_type": "markdown",
   "metadata": {},
   "source": [
    "**Answer:** The requested $uv$-tracks can be found in the next cell. The blue ellipse was generated by baseline 12, while the red ellipse was generated by\n",
    "  baseline 21 [$(u,v)_{12}=(-u,-v)_{21}$, since $\\boldsymbol{b}_{12}^{xyz}=-\\boldsymbol{b}_{21}^{xyz}$]. The center point of the blue ellipse is equal to $(0,37.82)$,\n",
    "  while its semi-major and semi-minor axes respectively equal $315.46$ and $304.22$."
   ]
  },
  {
   "cell_type": "code",
   "execution_count": 19,
   "metadata": {},
   "outputs": [
    {
     "data": {
      "image/png": "[encoded data removed]",
      "text/plain": [
       "<matplotlib.figure.Figure at 0x7fdfae2b3c90>"
      ]
     },
     "metadata": {},
     "output_type": "display_data"
    }
   ],
   "source": [
    "H = np.linspace(-12,12,100)\n",
    "H = H*15/180*np.pi\n",
    "\n",
    "transform_matrix = np.matrix([[np.sin(H), np.cos(H), 0],[-np.sin(delta_0)*np.cos(H), np.sin(delta_0)*np.sin(H), \\\n",
    "                                                         np.cos(delta_0)]])\n",
    "uv_12 = transform_matrix*XYZ_12/wavelength\n",
    "u_12 = uv_12[0,0]\n",
    "v_12 = uv_12[1,0]\n",
    "plt.plot(u_12,v_12, color='blue',label=\"baseline 12\")\n",
    "plt.plot(-1*u_12,-1*v_12, color='red',label=\"baseline 21\")\n",
    "plt.xlabel(\"u [rad$^{-1}$]\")\n",
    "plt.ylabel(\"v [rad$^{-1}$]\")\n",
    "plt.title(\"24 hour $uv$-track\")\n",
    "plt.legend()\n",
    "plt.grid('on')"
   ]
  },
  {
   "cell_type": "markdown",
   "metadata": {},
   "source": [
    "(8) Generate the coordinate pair (*u,v*) associated with baseline 12 and $H_0=$ -4h. **Hint:** Recall that\n",
    " \\begin{equation}\n",
    " \\begin{bmatrix}\n",
    " u_{12}\\\\\n",
    " v_{12}\n",
    " \\end{bmatrix} =\\lambda^{-1}\n",
    " \\begin{bmatrix}\n",
    " \\sin H & \\cos H & 0\\\\\n",
    " -\\sin \\delta_0 \\cos H & \\sin \\delta_0 \\sin H & \\cos \\delta_0\n",
    " \\end{bmatrix}\n",
    " \\begin{bmatrix}\n",
    " X_{12}\\\\\n",
    " Y_{12}\\\\\n",
    " Z_{12}\n",
    "\\end{bmatrix}\n",
    "\\end{equation}"
   ]
  },
  {
   "cell_type": "markdown",
   "metadata": {},
   "source": [
    "**Answer:**\n",
    "\\begin{equation}\n",
    "\\begin{bmatrix}u_{12}\\\\v_{12}\\end{bmatrix} = \\begin{bmatrix}79.81~\\textrm{rad}^{-1}\\\\332.15~ \\textrm{rad}^{-1}\\end{bmatrix}\\nonumber  \n",
    "\\end{equation}"
   ]
  },
  {
   "cell_type": "code",
   "execution_count": 20,
   "metadata": {},
   "outputs": [
    {
     "name": "stdout",
     "output_type": "stream",
     "text": [
      "[[  79.80618131]\n",
      " [ 332.14797582]]\n"
     ]
    }
   ],
   "source": [
    "H = -4.*15/180*np.pi\n",
    "A = np.matrix([[np.sin(H), np.cos(H), 0],\n",
    "               [-np.sin(delta_0)*np.cos(H), np.sin(delta_0)*np.sin(H), np.cos(delta_0)]])\n",
    "uv1 = (A*XYZ_12 )/wavelength\n",
    "print uv1"
   ]
  },
  {
   "cell_type": "markdown",
   "metadata": {},
   "source": [
    "(9)  Why is *u* and *v* unit-less? Why then do we measure *u* and *v* in rad$^{-1}$? **Hint:** In what unit do we measure length and wavelength? What is the unit of the ratio of these two quantities?"
   ]
  },
  {
   "cell_type": "markdown",
   "metadata": {},
   "source": [
    "**Answer:** The unit of length and wavelength are both in meters. The ratio of these two quantities are therefore unit-less. We also say that $u$ and $v$ are measured in $\\lambda$.\n",
    " Since we assigned the unit of $^{\\circ}$ to $l$ and $m$, we need to measure $u$ and $v$ in rad$^{-1}$, since the $lm$-plane and the $uv$-plane are related by the \n",
    " Fourier transform."
   ]
  },
  {
   "cell_type": "markdown",
   "metadata": {},
   "source": [
    "(10) Generate the coordinate pair (*u,v*) associated with baseline 12 and $H_1=$ 4h."
   ]
  },
  {
   "cell_type": "markdown",
   "metadata": {},
   "source": [
    "**Answer:**\n",
    "\\begin{equation}\n",
    " \\begin{bmatrix}u\\\\v\\end{bmatrix} = \\begin{bmatrix}224.41~\\textrm{rad}^{-1}\\\\-176.00~ \\textrm{rad}^{-1}\\end{bmatrix}\\nonumber  \n",
    " \\end{equation}"
   ]
  },
  {
   "cell_type": "code",
   "execution_count": 21,
   "metadata": {},
   "outputs": [
    {
     "name": "stdout",
     "output_type": "stream",
     "text": [
      "[[ 224.40915202]\n",
      " [-175.99696944]]\n"
     ]
    }
   ],
   "source": [
    "H = 4.*15/180*np.pi\n",
    "A = np.matrix([[np.sin(H), np.cos(H), 0],\n",
    "               [-np.sin(delta_0)*np.cos(H), np.sin(delta_0)*np.sin(H), np.cos(delta_0)]])\n",
    "uv2 = (A*XYZ_12 )/wavelength\n",
    "print uv2"
   ]
  },
  {
   "cell_type": "markdown",
   "metadata": {},
   "source": [
    "(11) Draw the *uv*-tracks of baseline 12 and 21 for -4h $\\leq H \\leq$ 4h."
   ]
  },
  {
   "cell_type": "markdown",
   "metadata": {},
   "source": [
    "The requested $uv$-tracks can be found in the cell below. The $uv$ coordinate that we can associate with $H_0$ is indicated by the red\n",
    " marker. The $uv$-coordinate that we can associate with $H_1$ is indicated by the black marker."
   ]
  },
  {
   "cell_type": "code",
   "execution_count": 22,
   "metadata": {},
   "outputs": [
    {
     "data": {
      "image/png": "[encoded data removed]",
      "text/plain": [
       "<matplotlib.figure.Figure at 0x7fdfae415d50>"
      ]
     },
     "metadata": {},
     "output_type": "display_data"
    }
   ],
   "source": [
    "H = np.linspace(-4,4,100)\n",
    "H = H*15/180*np.pi\n",
    "\n",
    "transform_matrix = np.matrix([[np.sin(H), np.cos(H), 0],[-np.sin(delta_0)*np.cos(H), np.sin(delta_0)*np.sin(H), \\\n",
    "                                                         np.cos(delta_0)]])\n",
    "uv_12 = transform_matrix*XYZ_12/wavelength\n",
    "u_12 = uv_12[0,0]\n",
    "v_12 = uv_12[1,0]\n",
    "plt.plot(u_12,v_12, color='blue',label=\"baseline 12\")\n",
    "plt.plot(-1*u_12,-1*v_12, color='red',label=\"baseline 21\")\n",
    "plt.plot(uv1[0],uv1[1],\"ro\")\n",
    "plt.plot(uv2[0],uv2[1],\"ko\")\n",
    "plt.plot(-1*uv1[0],-1*uv1[1],\"ro\")\n",
    "plt.plot(-1*uv2[0],-1*uv2[1],\"ko\")\n",
    "plt.xlabel(\"u [rad$^{-1}$]\")\n",
    "plt.ylabel(\"v [rad$^{-1}$]\")\n",
    "plt.title(\"8 hour $uv$-track\")\n",
    "plt.legend()\n",
    "plt.grid('on')"
   ]
  },
  {
   "cell_type": "markdown",
   "metadata": {},
   "source": [
    "(12) Assume we observe the exact same sky as we calculated in the previous section (i.e. the *l* and *m* coordinates of our skymodel stay the same), but now let $\\delta_0 = 0^{\\circ}$ (Papino lies on the celestial equator). Calculate the *uv*-coverage of baseline 12 with -4h < H < 4h. Also, plot the visibilities that we would observe as a function of timeslots - (we obtained the visibilities at 600 different (*u,v*) pairs on the elliptical locus)?"
   ]
  },
  {
   "cell_type": "markdown",
   "metadata": {},
   "source": [
    "**Answer:**\n",
    "\\begin{equation}\n",
    " \\begin{bmatrix}u\\\\v\\end{bmatrix}_{H_0} = \\begin{bmatrix}79.81~\\textrm{rad}^{-1}\\\\142.96~ \\textrm{rad}^{-1}\\end{bmatrix}\\nonumber \n",
    " \\end{equation}\n",
    " \\begin{equation}\n",
    " \\begin{bmatrix}u\\\\v\\end{bmatrix}_{H_1} = \\begin{bmatrix}224.41~\\textrm{rad}^{-1}\\\\142.96~ \\textrm{rad}^{-1}\\end{bmatrix}\\nonumber \n",
    " \\end{equation}\n",
    "The requested $uv$ coverage is plotted below. "
   ]
  },
  {
   "cell_type": "code",
   "execution_count": 23,
   "metadata": {},
   "outputs": [
    {
     "data": {
      "image/png": "[encoded data removed]",
      "text/plain": [
       "<matplotlib.figure.Figure at 0x7fdfae092250>"
      ]
     },
     "metadata": {},
     "output_type": "display_data"
    }
   ],
   "source": [
    "delta_0 = 0\n",
    "H = 4.*15/180*np.pi\n",
    "A = np.matrix([[np.sin(H), np.cos(H), 0],\n",
    "               [-np.sin(delta_0)*np.cos(H), np.sin(delta_0)*np.sin(H), np.cos(delta_0)]])\n",
    "uv2 = (A*XYZ_12 )/wavelength\n",
    "H = -4.*15/180*np.pi\n",
    "A = np.matrix([[np.sin(H), np.cos(H), 0],\n",
    "               [-np.sin(delta_0)*np.cos(H), np.sin(delta_0)*np.sin(H), np.cos(delta_0)]])\n",
    "uv1 = (A*XYZ_12 )/wavelength\n",
    "\n",
    "H = np.linspace(-4,4,100)\n",
    "H = H*15/180*np.pi\n",
    "\n",
    "transform_matrix = np.matrix([[np.sin(H), np.cos(H), 0],[-np.sin(delta_0)*np.cos(H), np.sin(delta_0)*np.sin(H), \\\n",
    "                                                         np.cos(delta_0)]])\n",
    "uv_12 = transform_matrix*XYZ_12/wavelength\n",
    "u_12 = uv_12[0,0]\n",
    "v_12 = uv_12[1,0]\n",
    "plt.plot(u_12,v_12, color='blue',label=\"baseline 12\")\n",
    "plt.plot(-1*u_12,-1*v_12, color='red',label=\"baseline 21\")\n",
    "plt.plot(uv1[0],uv1[1],\"ro\")\n",
    "plt.plot(uv2[0],uv2[1],\"ko\")\n",
    "plt.plot(-1*uv1[0],-1*uv1[1],\"ro\")\n",
    "plt.plot(-1*uv2[0],-1*uv2[1],\"ko\")\n",
    "plt.xlabel(\"u [rad$^{-1}$]\")\n",
    "plt.ylabel(\"v [rad$^{-1}$]\")\n",
    "plt.title(\"8 hour $uv$-track\")\n",
    "plt.legend(loc=4)\n",
    "plt.grid('on')"
   ]
  },
  {
   "cell_type": "markdown",
   "metadata": {},
   "source": [
    "  \\begin{eqnarray}\n",
    "   V(142.96)&=&1+0.2\\cos\\bigg(\\frac{\\pi^2}{90}(142.96)\\bigg)-i0.2\\sin\\bigg(\\frac{\\pi^2}{90}(142.96)\\bigg)\\nonumber\\\\\n",
    "   &=& 0.8 - 0061i\\nonumber~\\textrm{Jy} \n",
    "  \\end{eqnarray}"
   ]
  },
  {
   "cell_type": "code",
   "execution_count": 24,
   "metadata": {},
   "outputs": [
    {
     "data": {
      "image/png": "[encoded data removed]",
      "text/plain": [
       "<matplotlib.figure.Figure at 0x7fdfae1cbc90>"
      ]
     },
     "metadata": {},
     "output_type": "display_data"
    }
   ],
   "source": [
    "t_one = np.ones((600,))\n",
    "t = np.cumsum(t_one)\n",
    "plt.plot(t,V_func(uv1[1,0]).real*t_one,label=\"Real\")\n",
    "plt.xlabel('Timeslot [n]')\n",
    "plt.ylabel('Jy')\n",
    "plt.legend()\n",
    "plt.grid('on')\n",
    "plt.show()"
   ]
  },
  {
   "cell_type": "code",
   "execution_count": 25,
   "metadata": {},
   "outputs": [
    {
     "data": {
      "image/png": "[encoded data removed]",
      "text/plain": [
       "<matplotlib.figure.Figure at 0x7fdfadec2790>"
      ]
     },
     "metadata": {},
     "output_type": "display_data"
    }
   ],
   "source": [
    "t_one = np.ones((600,))\n",
    "t = np.cumsum(t_one)\n",
    "plt.plot(t,V_func(uv1[1,0]).imag*t_one,\"r\",label=\"Imag\")\n",
    "plt.xlabel('Timeslot [n]')\n",
    "plt.ylabel('Jy')\n",
    "plt.legend()\n",
    "plt.grid('on')\n",
    "plt.show()"
   ]
  },
  {
   "cell_type": "markdown",
   "metadata": {},
   "source": [
    "### 4. Basic Properties of an Interferometric Array\n",
    "\n",
    "In the table below we have some of the basic properties of an interferometric array, with these basic properties we can determine some of the array's secondary properties. For all the questions that follow, assume we are *observing at 1.4 GHz* ($\\nu_0$). **Note:** Assume that all the angles in the formulae given are in *radians*. Express all your answers, those that are angles, in degrees, arcminutes and arcseconds.\n",
    "\n",
    "| Property | Value |\n",
    "|:---:|:---:|\n",
    "| Antennas $N_{\\textrm{ant}}$ | 7 |\n",
    "| Dish diameter $D$ | 12 m |\n",
    "| Longest baseline length $b_{\\textrm{max}}$ | 185 m |\n",
    "| Channel bandwidth $\\Delta \\nu$ | 92.9121 MHz |\n",
    "| Frequency range | 1.4 - 1.95 GHz |"
   ]
  },
  {
   "cell_type": "code",
   "execution_count": 26,
   "metadata": {
    "collapsed": true
   },
   "outputs": [],
   "source": [
    "f0 = 1.4*10**9\n",
    "D = 12\n",
    "bmax = 185\n",
    "cB = 92.9121*10**6\n",
    "Na = 7"
   ]
  },
  {
   "cell_type": "markdown",
   "metadata": {},
   "source": [
    "(1) How many baselines does the interferometric array have? **Hint:** $\\frac{N_{\\textrm{ant}}^2-N_{\\textrm{ant}}}{2}$."
   ]
  },
  {
   "cell_type": "markdown",
   "metadata": {},
   "source": [
    "**Answer:** 21"
   ]
  },
  {
   "cell_type": "code",
   "execution_count": 27,
   "metadata": {},
   "outputs": [
    {
     "name": "stdout",
     "output_type": "stream",
     "text": [
      "21\n"
     ]
    }
   ],
   "source": [
    "Nb = (Na**2-Na)/2\n",
    "print Nb"
   ]
  },
  {
   "cell_type": "markdown",
   "metadata": {},
   "source": [
    "(2) Determine the approximate size of the primary beam (full width half maximum beamwidth) of the interferometric array. **Hint:** $\\theta_p \\approx \\frac{\\lambda_0}{D}$."
   ]
  },
  {
   "cell_type": "markdown",
   "metadata": {},
   "source": [
    "**Answer:** Recall that $\\lambda_0 = \\frac{c}{f_0} \\approx 0.21$ m, from which we can calculate:\n",
    "\\begin{equation}\n",
    "\\theta_p \\approx \\frac{0.214}{12} = 1.02^{\\circ} = 61.30' = 3678.39''  \n",
    "\\end{equation}"
   ]
  },
  {
   "cell_type": "code",
   "execution_count": 28,
   "metadata": {},
   "outputs": [
    {
     "name": "stdout",
     "output_type": "stream",
     "text": [
      "0.214285714286\n",
      "0.0178571428571\n",
      "1.02313891988\n",
      "61.3883351926\n",
      "3683.30011156\n"
     ]
    }
   ],
   "source": [
    "lam = 3*10**8/f0\n",
    "print lam #m\n",
    "theta_p = lam/D\n",
    "print theta_p #rad\n",
    "print theta_p*(180/np.pi) #degrees\n",
    "print theta_p*(180/np.pi)*60 #arcminutes\n",
    "print theta_p*(180/np.pi)*60*60 #arcseconds"
   ]
  },
  {
   "cell_type": "markdown",
   "metadata": {},
   "source": [
    "(3) Determine the angular resolution of the interferometric array. **Hint:** $\\theta_s \\approx \\frac{\\lambda_0}{b_{\\textrm{max}}}$."
   ]
  },
  {
   "cell_type": "markdown",
   "metadata": {},
   "source": [
    "**Answer:**\n",
    "\\begin{equation}\n",
    "\\theta_s \\approx \\frac{0.214}{185} = 0.07^{\\circ} = 3.98' = 238.91''  \n",
    "\\end{equation}"
   ]
  },
  {
   "cell_type": "code",
   "execution_count": 29,
   "metadata": {},
   "outputs": [
    {
     "name": "stdout",
     "output_type": "stream",
     "text": [
      "0.0011583011583\n",
      "0.0663657677758\n",
      "3.98194606655\n",
      "238.916763993\n"
     ]
    }
   ],
   "source": [
    "theta_s = lam/bmax\n",
    "print theta_s #rad\n",
    "print theta_s*(180/np.pi) #degrees\n",
    "print theta_s*(180/np.pi)*60 #arcminutes\n",
    "print theta_s*(180/np.pi)*60*60 #arcseconds"
   ]
  },
  {
   "cell_type": "markdown",
   "metadata": {},
   "source": [
    "(4) Determine the maximum angular radius $\\Delta \\theta$ a source can be from the field center and not be heavily attenuated by the fringe washing function. **Hint:** $\\Delta \\theta \\Delta \\nu << \\theta_s \\nu_0$."
   ]
  },
  {
   "cell_type": "markdown",
   "metadata": {},
   "source": [
    "**Answer:**\n",
    "\\begin{equation}\n",
    "   \\Delta \\theta = \\frac{\\theta_s \\nu_0}{\\Delta \\nu} = 1^{\\circ} = 60' = 3600''    \n",
    " \\end{equation}"
   ]
  },
  {
   "cell_type": "code",
   "execution_count": 30,
   "metadata": {},
   "outputs": [
    {
     "name": "stdout",
     "output_type": "stream",
     "text": [
      "0.0174532878024\n",
      "0.999999729702\n",
      "59.9999837821\n",
      "3599.99902693\n"
     ]
    }
   ],
   "source": [
    "theta_d = (theta_s*f0)/cB\n",
    "print theta_d #rad\n",
    "print theta_d*(180/np.pi) #degrees\n",
    "print theta_d*(180/np.pi)*60 #arcminutes\n",
    "print theta_d*(180/np.pi)*60*60 #arcseconds"
   ]
  },
  {
   "cell_type": "markdown",
   "metadata": {},
   "source": [
    "(5) Determine the maximum integration time $\\Delta t$ length if you want to prevent time smearing (within the maximum angular radius given by your fringe washing function). **Hint:** $\\frac{2\\pi\\Delta \\theta\\Delta t}{P} <<\\theta_s$."
   ]
  },
  {
   "cell_type": "markdown",
   "metadata": {},
   "source": [
    " **Answer:**\n",
    " \\begin{equation}\n",
    "   \\Delta t = \\frac{\\theta_s}{\\Delta \\theta} (1.37 \\times 10^4) = 15.15~\\textrm{min}  \n",
    " \\end{equation}"
   ]
  },
  {
   "cell_type": "code",
   "execution_count": 31,
   "metadata": {},
   "outputs": [
    {
     "name": "stdout",
     "output_type": "stream",
     "text": [
      "909.211264286\n"
     ]
    }
   ],
   "source": [
    "t = (theta_s/theta_d)*1.37*10**4\n",
    "print t #s"
   ]
  },
  {
   "cell_type": "markdown",
   "metadata": {},
   "source": [
    "(6) Determine the field of view $\\Delta \\theta_F$ in which we may assume that the $w$-term is negligible. **Hint:** $\\Delta \\theta_F < \\frac{1}{3}\\sqrt{\\theta_s}$"
   ]
  },
  {
   "cell_type": "markdown",
   "metadata": {},
   "source": [
    "**Answer:**\n",
    "\\begin{equation}\n",
    "  \\Delta \\theta_F = 3^{-1}\\sqrt{\\theta_s} = 0.64^{\\circ} = 39' = 2340''\n",
    " \\end{equation}"
   ]
  },
  {
   "cell_type": "code",
   "execution_count": 32,
   "metadata": {},
   "outputs": [
    {
     "name": "stdout",
     "output_type": "stream",
     "text": [
      "0.011344607913\n",
      "0.649998153647\n",
      "38.9998892188\n",
      "2339.99335313\n"
     ]
    }
   ],
   "source": [
    "theta_F = 1.0/3.0*np.sqrt(theta_s) #rad\n",
    "print theta_F #rad\n",
    "print theta_F*(180/np.pi) #degrees\n",
    "print theta_F*(180/np.pi)*60 #arcminutes\n",
    "print theta_F*(180/np.pi)*60*60 #arcseconds"
   ]
  },
  {
   "cell_type": "markdown",
   "metadata": {},
   "source": [
    "(7) Represent $\\theta_p$, $\\theta_s$, $\\Delta \\theta$ and $\\Delta \\theta_F$ graphically (in one figure). **Hint:** Draw concentric circles and use the angles as radii or diameters."
   ]
  },
  {
   "cell_type": "markdown",
   "metadata": {},
   "source": [
    "**Answer:**"
   ]
  },
  {
   "cell_type": "markdown",
   "metadata": {},
   "source": [
    "<img src='figures/angles.png' width=300>"
   ]
  },
  {
   "cell_type": "markdown",
   "metadata": {},
   "source": [
    "**Figure:** The angels  $\\theta_p$, $\\theta_s$, $\\Delta \\theta$ and $\\Delta \\theta_F$."
   ]
  },
  {
   "cell_type": "code",
   "execution_count": 33,
   "metadata": {},
   "outputs": [
    {
     "name": "stderr",
     "output_type": "stream",
     "text": [
      "/home/trienko/NASSP/fundamentals/lib/python2.7/site-packages/ipykernel/__main__.py:12: MatplotlibDeprecationWarning: pyplot.hold is deprecated.\n",
      "    Future behavior will be consistent with the long-time default:\n",
      "    plot commands add elements without first clearing the\n",
      "    Axes and/or Figure.\n"
     ]
    },
    {
     "data": {
      "text/plain": [
       "<matplotlib.text.Text at 0x7fdfaddcb390>"
      ]
     },
     "execution_count": 33,
     "metadata": {},
     "output_type": "execute_result"
    },
    {
     "data": {
      "image/png": "[encoded data removed]",
      "text/plain": [
       "<matplotlib.figure.Figure at 0x7fdfade74cd0>"
      ]
     },
     "metadata": {},
     "output_type": "display_data"
    }
   ],
   "source": [
    "t = np.linspace(-1,1,1000)\n",
    "x1 = 0.5*theta_p*np.cos(2*np.pi*t)*(180/np.pi)\n",
    "y1 = 0.5*theta_p*np.sin(2*np.pi*t)*(180/np.pi)\n",
    "x2 = 0.5*theta_s*np.cos(2*np.pi*t)*(180/np.pi)\n",
    "y2 = 0.5*theta_s*np.sin(2*np.pi*t)*(180/np.pi)\n",
    "x3 = theta_d*np.cos(2*np.pi*t)*(180/np.pi)\n",
    "y3 = theta_d*np.sin(2*np.pi*t)*(180/np.pi)\n",
    "x4 = 0.5*theta_F*np.cos(2*np.pi*t)*(180/np.pi)\n",
    "y4 = 0.5*theta_F*np.sin(2*np.pi*t)*(180/np.pi)\n",
    "\n",
    "plt.plot(x1,y1,\"b\",label=\"Pri. beam\")\n",
    "plt.hold(\"on\")\n",
    "plt.plot(x2,y2,\"c\",label=\"Ang. res.\")\n",
    "plt.plot(x3,y3,\"r\",label = \"Fin. Band.\")\n",
    "plt.plot(x4,y4,\"k\",label = r\"$w$-Term\")\n",
    "plt.legend()\n",
    "plt.xlabel(r\"$l$ [$^{\\circ}$]\")\n",
    "plt.ylabel(r\"$m$ [$^{\\circ}$]\")"
   ]
  },
  {
   "cell_type": "markdown",
   "metadata": {},
   "source": [
    "***\n",
    "Return: [4. The Visibility Space](4_0_introduction.ipynb)"
   ]
  }
 ],
 "metadata": {
  "kernelspec": {
   "display_name": "Python 3",
   "language": "python",
   "name": "python3"
  },
  "language_info": {
   "codemirror_mode": {
    "name": "ipython",
    "version": 3
   },
   "file_extension": ".py",
   "mimetype": "text/x-python",
   "name": "python",
   "nbconvert_exporter": "python",
   "pygments_lexer": "ipython3",
   "version": "3.8.5"
  }
 },
 "nbformat": 4,
 "nbformat_minor": 1
}
